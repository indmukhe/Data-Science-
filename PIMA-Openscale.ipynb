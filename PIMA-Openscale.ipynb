{
    "nbformat_minor": 1, 
    "cells": [
        {
            "execution_count": 2, 
            "cell_type": "code", 
            "metadata": {}, 
            "outputs": [
                {
                    "ename": "ImportError", 
                    "evalue": "No module named 'ibm_ai_openscale'", 
                    "traceback": [
                        "\u001b[0;31m---------------------------------------------------------------------------\u001b[0m", 
                        "\u001b[0;31mImportError\u001b[0m                               Traceback (most recent call last)", 
                        "\u001b[0;32m<ipython-input-2-19a5d5c9173b>\u001b[0m in \u001b[0;36m<module>\u001b[0;34m()\u001b[0m\n\u001b[0;32m----> 1\u001b[0;31m \u001b[0;32mfrom\u001b[0m \u001b[0mibm_ai_openscale\u001b[0m \u001b[0;32mimport\u001b[0m \u001b[0mAPIClient\u001b[0m\u001b[0;34m\u001b[0m\u001b[0m\n\u001b[0m\u001b[1;32m      2\u001b[0m \u001b[0;32mfrom\u001b[0m \u001b[0mibm_ai_openscale\u001b[0m\u001b[0;34m.\u001b[0m\u001b[0msupporting_classes\u001b[0m \u001b[0;32mimport\u001b[0m \u001b[0mPayloadRecord\u001b[0m\u001b[0;34m\u001b[0m\u001b[0m\n\u001b[1;32m      3\u001b[0m \u001b[0;34m\u001b[0m\u001b[0m\n\u001b[1;32m      4\u001b[0m aios_credentials = {\n\u001b[1;32m      5\u001b[0m                       \u001b[0;34m\"instance_guid\"\u001b[0m\u001b[0;34m:\u001b[0m \u001b[0;34m\"38f585a9-ec5a-41a8-8511-dd955fc9fa0f\"\u001b[0m\u001b[0;34m,\u001b[0m\u001b[0;34m\u001b[0m\u001b[0m\n", 
                        "\u001b[0;31mImportError\u001b[0m: No module named 'ibm_ai_openscale'"
                    ], 
                    "output_type": "error"
                }
            ], 
            "source": "from ibm_ai_openscale import APIClient\nfrom ibm_ai_openscale.supporting_classes import PayloadRecord\n\naios_credentials = {\n                      \"instance_guid\": \"38f585a9-ec5a-41a8-8511-dd955fc9fa0f\",\n                      \"apikey\": \"1-xncrpEXqchEzmRiZbqrO_hbFrTf1iKK0NSysUubfrN\",\n                      \"url\": \"https://api.aiopenscale.cloud.ibm.com\"\n                   }\n\nclient = APIClient(aios_credentials)\nsubscription = client.data_mart.subscriptions.get(subscription_uid=\"c0b3ea50-01ce-4722-b232-c263fd50eb06\")\n\n# request_data - input to scoring endpoint in supported by Watson OpenScale format - replace sample values with proper ones\n# response_data - output from scored model in supported by Watson OpenScale format - replace sample values with proper ones\n# response_time - scoring request response time [ms] (integer type) - replace sample values with proper ones\n\nrequest_data = {\"fields\":[\"NPG\",\"PGL\",\"DIA\",\"TSF\",\"INS\",\"BMI\",\"DPF\",\"AGE\"],\"values\":[[6,148,72,35,0,33.6,0.627,50]]}\n\nresponse_data = {\n  \"fields\": [\n    \"NPG\",\n    \"PGL\",\n    \"DIA\",\n    \"TSF\",\n    \"INS\",\n    \"BMI\",\n    \"DPF\",\n    \"AGE\",\n    \"features\",\n    \"rawPrediction\",\n    \"probability\",\n    \"prediction\",\n    \"nodeADP_class\",\n    \"nodeADP_classes\"\n  ],\n  \"values\": [\n    [\n      6,\n      148,\n      72,\n      35,\n      0,\n      33.6,\n      0.627,\n      50,\n      [\n        1.8028953275784776,\n        4.688883733705708,\n        3.6726728326570246,\n        2.184347247644073,\n        0,\n        4.18207746349838,\n        1.9699009940273844,\n        4.192962548968522\n      ],\n      [\n        -0.53716856850839,\n        0.53716856850839\n      ],\n      [\n        0.36884649086844595,\n        0.631153509131554\n      ],\n      1,\n      1,\n      [\n        0,\n        1\n      ]\n    ]\n  ]\n}\n\nrecords = [PayloadRecord(request=request_data, response=response_data, response_time=18), \n                PayloadRecord(request=request_data, response=response_data, response_time=12)]\n\nsubscription.payload_logging.store(records=records)"
        }, 
        {
            "execution_count": null, 
            "cell_type": "code", 
            "metadata": {}, 
            "outputs": [], 
            "source": ""
        }, 
        {
            "execution_count": null, 
            "cell_type": "code", 
            "metadata": {}, 
            "outputs": [], 
            "source": ""
        }
    ], 
    "metadata": {
        "kernelspec": {
            "display_name": "Python 3.5", 
            "name": "python3", 
            "language": "python"
        }, 
        "language_info": {
            "mimetype": "text/x-python", 
            "nbconvert_exporter": "python", 
            "version": "3.5.5", 
            "name": "python", 
            "file_extension": ".py", 
            "pygments_lexer": "ipython3", 
            "codemirror_mode": {
                "version": 3, 
                "name": "ipython"
            }
        }
    }, 
    "nbformat": 4
}